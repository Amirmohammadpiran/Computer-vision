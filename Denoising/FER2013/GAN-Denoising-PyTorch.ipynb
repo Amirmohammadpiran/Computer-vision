{
 "cells": [
  {
   "cell_type": "markdown",
   "id": "34d13608-8ebb-4c9a-994e-cfdc96cf2caf",
   "metadata": {},
   "source": [
    "# GAN Denoising on FER2013 emotions dataset\n",
    "\n",
    "In this notebook we implement a Generative Adversary Network for task of denoising images, taken from FER2013 dataset."
   ]
  },
  {
   "cell_type": "markdown",
   "id": "0afaf8ee-b669-4fb3-a5d7-aea9682d81da",
   "metadata": {},
   "source": [
    "### Installing the required libraries:"
   ]
  },
  {
   "cell_type": "code",
   "execution_count": 1,
   "id": "47251e51-fa9c-4533-b3c3-0233b911029c",
   "metadata": {
    "scrolled": true
   },
   "outputs": [
    {
     "name": "stdout",
     "output_type": "stream",
     "text": [
      "Requirement already satisfied: numpy in /home/ubuntu/compex/.venv/lib/python3.10/site-packages (2.1.3)\n",
      "Requirement already satisfied: pandas in /home/ubuntu/compex/.venv/lib/python3.10/site-packages (2.2.3)\n",
      "Requirement already satisfied: torch in /home/ubuntu/compex/.venv/lib/python3.10/site-packages (2.5.1)\n",
      "Requirement already satisfied: torchvision in /home/ubuntu/compex/.venv/lib/python3.10/site-packages (0.20.1)\n",
      "Requirement already satisfied: torchmetrics in /home/ubuntu/compex/.venv/lib/python3.10/site-packages (1.6.0)\n",
      "Requirement already satisfied: matplotlib in /home/ubuntu/compex/.venv/lib/python3.10/site-packages (3.10.0)\n",
      "Requirement already satisfied: mplcyberpunk in /home/ubuntu/compex/.venv/lib/python3.10/site-packages (0.7.5)\n",
      "Requirement already satisfied: tzdata>=2022.7 in /home/ubuntu/compex/.venv/lib/python3.10/site-packages (from pandas) (2024.2)\n",
      "Requirement already satisfied: pytz>=2020.1 in /home/ubuntu/compex/.venv/lib/python3.10/site-packages (from pandas) (2024.2)\n",
      "Requirement already satisfied: python-dateutil>=2.8.2 in /home/ubuntu/compex/.venv/lib/python3.10/site-packages (from pandas) (2.9.0.post0)\n",
      "Requirement already satisfied: nvidia-cusolver-cu12==11.6.1.9 in /home/ubuntu/compex/.venv/lib/python3.10/site-packages (from torch) (11.6.1.9)\n",
      "Requirement already satisfied: filelock in /home/ubuntu/compex/.venv/lib/python3.10/site-packages (from torch) (3.16.1)\n",
      "Requirement already satisfied: nvidia-cusparse-cu12==12.3.1.170 in /home/ubuntu/compex/.venv/lib/python3.10/site-packages (from torch) (12.3.1.170)\n",
      "Requirement already satisfied: triton==3.1.0 in /home/ubuntu/compex/.venv/lib/python3.10/site-packages (from torch) (3.1.0)\n",
      "Requirement already satisfied: nvidia-cublas-cu12==12.4.5.8 in /home/ubuntu/compex/.venv/lib/python3.10/site-packages (from torch) (12.4.5.8)\n",
      "Requirement already satisfied: nvidia-cudnn-cu12==9.1.0.70 in /home/ubuntu/compex/.venv/lib/python3.10/site-packages (from torch) (9.1.0.70)\n",
      "Requirement already satisfied: networkx in /home/ubuntu/compex/.venv/lib/python3.10/site-packages (from torch) (3.4.2)\n",
      "Requirement already satisfied: nvidia-cufft-cu12==11.2.1.3 in /home/ubuntu/compex/.venv/lib/python3.10/site-packages (from torch) (11.2.1.3)\n",
      "Requirement already satisfied: fsspec in /home/ubuntu/compex/.venv/lib/python3.10/site-packages (from torch) (2024.10.0)\n",
      "Requirement already satisfied: nvidia-cuda-runtime-cu12==12.4.127 in /home/ubuntu/compex/.venv/lib/python3.10/site-packages (from torch) (12.4.127)\n",
      "Requirement already satisfied: nvidia-nvjitlink-cu12==12.4.127 in /home/ubuntu/compex/.venv/lib/python3.10/site-packages (from torch) (12.4.127)\n",
      "Requirement already satisfied: jinja2 in /home/ubuntu/compex/.venv/lib/python3.10/site-packages (from torch) (3.1.4)\n",
      "Requirement already satisfied: nvidia-curand-cu12==10.3.5.147 in /home/ubuntu/compex/.venv/lib/python3.10/site-packages (from torch) (10.3.5.147)\n",
      "Requirement already satisfied: nvidia-nccl-cu12==2.21.5 in /home/ubuntu/compex/.venv/lib/python3.10/site-packages (from torch) (2.21.5)\n",
      "Requirement already satisfied: sympy==1.13.1 in /home/ubuntu/compex/.venv/lib/python3.10/site-packages (from torch) (1.13.1)\n",
      "Requirement already satisfied: nvidia-nvtx-cu12==12.4.127 in /home/ubuntu/compex/.venv/lib/python3.10/site-packages (from torch) (12.4.127)\n",
      "Requirement already satisfied: typing-extensions>=4.8.0 in /home/ubuntu/compex/.venv/lib/python3.10/site-packages (from torch) (4.12.2)\n",
      "Requirement already satisfied: nvidia-cuda-nvrtc-cu12==12.4.127 in /home/ubuntu/compex/.venv/lib/python3.10/site-packages (from torch) (12.4.127)\n",
      "Requirement already satisfied: nvidia-cuda-cupti-cu12==12.4.127 in /home/ubuntu/compex/.venv/lib/python3.10/site-packages (from torch) (12.4.127)\n",
      "Requirement already satisfied: mpmath<1.4,>=1.1.0 in /home/ubuntu/compex/.venv/lib/python3.10/site-packages (from sympy==1.13.1->torch) (1.3.0)\n",
      "Requirement already satisfied: pillow!=8.3.*,>=5.3.0 in /home/ubuntu/compex/.venv/lib/python3.10/site-packages (from torchvision) (11.0.0)\n",
      "Requirement already satisfied: lightning-utilities>=0.8.0 in /home/ubuntu/compex/.venv/lib/python3.10/site-packages (from torchmetrics) (0.11.9)\n",
      "Requirement already satisfied: packaging>17.1 in /home/ubuntu/compex/.venv/lib/python3.10/site-packages (from torchmetrics) (24.2)\n",
      "Requirement already satisfied: fonttools>=4.22.0 in /home/ubuntu/compex/.venv/lib/python3.10/site-packages (from matplotlib) (4.55.3)\n",
      "Requirement already satisfied: pyparsing>=2.3.1 in /home/ubuntu/compex/.venv/lib/python3.10/site-packages (from matplotlib) (3.2.0)\n",
      "Requirement already satisfied: contourpy>=1.0.1 in /home/ubuntu/compex/.venv/lib/python3.10/site-packages (from matplotlib) (1.3.1)\n",
      "Requirement already satisfied: kiwisolver>=1.3.1 in /home/ubuntu/compex/.venv/lib/python3.10/site-packages (from matplotlib) (1.4.7)\n",
      "Requirement already satisfied: cycler>=0.10 in /home/ubuntu/compex/.venv/lib/python3.10/site-packages (from matplotlib) (0.12.1)\n",
      "Requirement already satisfied: setuptools in /home/ubuntu/compex/.venv/lib/python3.10/site-packages (from lightning-utilities>=0.8.0->torchmetrics) (59.6.0)\n",
      "Requirement already satisfied: six>=1.5 in /home/ubuntu/compex/.venv/lib/python3.10/site-packages (from python-dateutil>=2.8.2->pandas) (1.16.0)\n",
      "Requirement already satisfied: MarkupSafe>=2.0 in /home/ubuntu/compex/.venv/lib/python3.10/site-packages (from jinja2->torch) (3.0.2)\n"
     ]
    }
   ],
   "source": [
    "!pip install numpy pandas torch torchvision torchmetrics matplotlib mplcyberpunk"
   ]
  },
  {
   "cell_type": "markdown",
   "id": "b898e920-718d-4beb-9bed-0dd4ed726690",
   "metadata": {},
   "source": [
    "## Loading the prerequisites:"
   ]
  },
  {
   "cell_type": "code",
   "execution_count": 28,
   "id": "19312043-4e0c-421a-a16c-42322de56a68",
   "metadata": {},
   "outputs": [],
   "source": [
    "import numpy as np\n",
    "import pandas as pd\n",
    "import matplotlib.pyplot as plt\n",
    "import torch\n",
    "from torch import nn\n",
    "import torch.nn.functional as F\n",
    "from torch.optim import Adam\n",
    "from torch.nn import MSELoss\n",
    "from torch.utils.data import TensorDataset as Dataset\n",
    "from torchmetrics.image.ssim import StructuralSimilarityIndexMeasure\n",
    "from PIL import Image\n",
    "from tqdm import tqdm\n",
    "import os\n",
    "import time\n",
    "import gc\n",
    "import mplcyberpunk\n",
    "plt.style.use('cyberpunk')\n",
    "device = \"cuda:1\" if torch.cuda.is_available() else \"cpu\""
   ]
  },
  {
   "cell_type": "markdown",
   "id": "2f3b67df-07bf-4b5d-913f-1c4ae87d5d4c",
   "metadata": {},
   "source": [
    "## Data extraction and processing:\n",
    "\n",
    "You can download the dataset from this: https://drive.google.com/file/d/1k2A7dJgQ25-Tqzmda49kJElo-1vhbEQk/view?usp=sharing\n",
    "\n",
    "And place it where the next cell can find it!\n"
   ]
  },
  {
   "cell_type": "code",
   "execution_count": 4,
   "id": "3b323f55-d3d1-4c42-ae6e-125e2a20aa28",
   "metadata": {},
   "outputs": [
    {
     "data": {
      "text/html": [
       "<div>\n",
       "<style scoped>\n",
       "    .dataframe tbody tr th:only-of-type {\n",
       "        vertical-align: middle;\n",
       "    }\n",
       "\n",
       "    .dataframe tbody tr th {\n",
       "        vertical-align: top;\n",
       "    }\n",
       "\n",
       "    .dataframe thead th {\n",
       "        text-align: right;\n",
       "    }\n",
       "</style>\n",
       "<table border=\"1\" class=\"dataframe\">\n",
       "  <thead>\n",
       "    <tr style=\"text-align: right;\">\n",
       "      <th></th>\n",
       "      <th>emotion</th>\n",
       "      <th>pixels</th>\n",
       "      <th>Usage</th>\n",
       "    </tr>\n",
       "  </thead>\n",
       "  <tbody>\n",
       "    <tr>\n",
       "      <th>0</th>\n",
       "      <td>0</td>\n",
       "      <td>70 80 82 72 58 58 60 63 54 58 60 48 89 115 121...</td>\n",
       "      <td>Training</td>\n",
       "    </tr>\n",
       "    <tr>\n",
       "      <th>1</th>\n",
       "      <td>0</td>\n",
       "      <td>151 150 147 155 148 133 111 140 170 174 182 15...</td>\n",
       "      <td>Training</td>\n",
       "    </tr>\n",
       "    <tr>\n",
       "      <th>2</th>\n",
       "      <td>2</td>\n",
       "      <td>231 212 156 164 174 138 161 173 182 200 106 38...</td>\n",
       "      <td>Training</td>\n",
       "    </tr>\n",
       "    <tr>\n",
       "      <th>3</th>\n",
       "      <td>4</td>\n",
       "      <td>24 32 36 30 32 23 19 20 30 41 21 22 32 34 21 1...</td>\n",
       "      <td>Training</td>\n",
       "    </tr>\n",
       "    <tr>\n",
       "      <th>4</th>\n",
       "      <td>6</td>\n",
       "      <td>4 0 0 0 0 0 0 0 0 0 0 0 3 15 23 28 48 50 58 84...</td>\n",
       "      <td>Training</td>\n",
       "    </tr>\n",
       "    <tr>\n",
       "      <th>...</th>\n",
       "      <td>...</td>\n",
       "      <td>...</td>\n",
       "      <td>...</td>\n",
       "    </tr>\n",
       "    <tr>\n",
       "      <th>35882</th>\n",
       "      <td>6</td>\n",
       "      <td>50 36 17 22 23 29 33 39 34 37 37 37 39 43 48 5...</td>\n",
       "      <td>PrivateTest</td>\n",
       "    </tr>\n",
       "    <tr>\n",
       "      <th>35883</th>\n",
       "      <td>3</td>\n",
       "      <td>178 174 172 173 181 188 191 194 196 199 200 20...</td>\n",
       "      <td>PrivateTest</td>\n",
       "    </tr>\n",
       "    <tr>\n",
       "      <th>35884</th>\n",
       "      <td>0</td>\n",
       "      <td>17 17 16 23 28 22 19 17 25 26 20 24 31 19 27 9...</td>\n",
       "      <td>PrivateTest</td>\n",
       "    </tr>\n",
       "    <tr>\n",
       "      <th>35885</th>\n",
       "      <td>3</td>\n",
       "      <td>30 28 28 29 31 30 42 68 79 81 77 67 67 71 63 6...</td>\n",
       "      <td>PrivateTest</td>\n",
       "    </tr>\n",
       "    <tr>\n",
       "      <th>35886</th>\n",
       "      <td>2</td>\n",
       "      <td>19 13 14 12 13 16 21 33 50 57 71 84 97 108 122...</td>\n",
       "      <td>PrivateTest</td>\n",
       "    </tr>\n",
       "  </tbody>\n",
       "</table>\n",
       "<p>35887 rows × 3 columns</p>\n",
       "</div>"
      ],
      "text/plain": [
       "       emotion                                             pixels        Usage\n",
       "0            0  70 80 82 72 58 58 60 63 54 58 60 48 89 115 121...     Training\n",
       "1            0  151 150 147 155 148 133 111 140 170 174 182 15...     Training\n",
       "2            2  231 212 156 164 174 138 161 173 182 200 106 38...     Training\n",
       "3            4  24 32 36 30 32 23 19 20 30 41 21 22 32 34 21 1...     Training\n",
       "4            6  4 0 0 0 0 0 0 0 0 0 0 0 3 15 23 28 48 50 58 84...     Training\n",
       "...        ...                                                ...          ...\n",
       "35882        6  50 36 17 22 23 29 33 39 34 37 37 37 39 43 48 5...  PrivateTest\n",
       "35883        3  178 174 172 173 181 188 191 194 196 199 200 20...  PrivateTest\n",
       "35884        0  17 17 16 23 28 22 19 17 25 26 20 24 31 19 27 9...  PrivateTest\n",
       "35885        3  30 28 28 29 31 30 42 68 79 81 77 67 67 71 63 6...  PrivateTest\n",
       "35886        2  19 13 14 12 13 16 21 33 50 57 71 84 97 108 122...  PrivateTest\n",
       "\n",
       "[35887 rows x 3 columns]"
      ]
     },
     "execution_count": 4,
     "metadata": {},
     "output_type": "execute_result"
    }
   ],
   "source": [
    "df = pd.read_csv(\"fer2013.csv\")\n",
    "df"
   ]
  },
  {
   "cell_type": "code",
   "execution_count": 5,
   "id": "c7d3010b-6644-49e1-87e7-4dd9bfd76adb",
   "metadata": {},
   "outputs": [
    {
     "data": {
      "text/html": [
       "<div>\n",
       "<style scoped>\n",
       "    .dataframe tbody tr th:only-of-type {\n",
       "        vertical-align: middle;\n",
       "    }\n",
       "\n",
       "    .dataframe tbody tr th {\n",
       "        vertical-align: top;\n",
       "    }\n",
       "\n",
       "    .dataframe thead th {\n",
       "        text-align: right;\n",
       "    }\n",
       "</style>\n",
       "<table border=\"1\" class=\"dataframe\">\n",
       "  <thead>\n",
       "    <tr style=\"text-align: right;\">\n",
       "      <th></th>\n",
       "      <th>emotion</th>\n",
       "      <th>pixels</th>\n",
       "      <th>Usage</th>\n",
       "    </tr>\n",
       "  </thead>\n",
       "  <tbody>\n",
       "    <tr>\n",
       "      <th>0</th>\n",
       "      <td>0</td>\n",
       "      <td>[70, 80, 82, 72, 58, 58, 60, 63, 54, 58, 60, 4...</td>\n",
       "      <td>Training</td>\n",
       "    </tr>\n",
       "    <tr>\n",
       "      <th>1</th>\n",
       "      <td>0</td>\n",
       "      <td>[151, 150, 147, 155, 148, 133, 111, 140, 170, ...</td>\n",
       "      <td>Training</td>\n",
       "    </tr>\n",
       "    <tr>\n",
       "      <th>2</th>\n",
       "      <td>2</td>\n",
       "      <td>[231, 212, 156, 164, 174, 138, 161, 173, 182, ...</td>\n",
       "      <td>Training</td>\n",
       "    </tr>\n",
       "    <tr>\n",
       "      <th>3</th>\n",
       "      <td>4</td>\n",
       "      <td>[24, 32, 36, 30, 32, 23, 19, 20, 30, 41, 21, 2...</td>\n",
       "      <td>Training</td>\n",
       "    </tr>\n",
       "    <tr>\n",
       "      <th>4</th>\n",
       "      <td>6</td>\n",
       "      <td>[4, 0, 0, 0, 0, 0, 0, 0, 0, 0, 0, 0, 3, 15, 23...</td>\n",
       "      <td>Training</td>\n",
       "    </tr>\n",
       "    <tr>\n",
       "      <th>...</th>\n",
       "      <td>...</td>\n",
       "      <td>...</td>\n",
       "      <td>...</td>\n",
       "    </tr>\n",
       "    <tr>\n",
       "      <th>35882</th>\n",
       "      <td>6</td>\n",
       "      <td>[50, 36, 17, 22, 23, 29, 33, 39, 34, 37, 37, 3...</td>\n",
       "      <td>PrivateTest</td>\n",
       "    </tr>\n",
       "    <tr>\n",
       "      <th>35883</th>\n",
       "      <td>3</td>\n",
       "      <td>[178, 174, 172, 173, 181, 188, 191, 194, 196, ...</td>\n",
       "      <td>PrivateTest</td>\n",
       "    </tr>\n",
       "    <tr>\n",
       "      <th>35884</th>\n",
       "      <td>0</td>\n",
       "      <td>[17, 17, 16, 23, 28, 22, 19, 17, 25, 26, 20, 2...</td>\n",
       "      <td>PrivateTest</td>\n",
       "    </tr>\n",
       "    <tr>\n",
       "      <th>35885</th>\n",
       "      <td>3</td>\n",
       "      <td>[30, 28, 28, 29, 31, 30, 42, 68, 79, 81, 77, 6...</td>\n",
       "      <td>PrivateTest</td>\n",
       "    </tr>\n",
       "    <tr>\n",
       "      <th>35886</th>\n",
       "      <td>2</td>\n",
       "      <td>[19, 13, 14, 12, 13, 16, 21, 33, 50, 57, 71, 8...</td>\n",
       "      <td>PrivateTest</td>\n",
       "    </tr>\n",
       "  </tbody>\n",
       "</table>\n",
       "<p>35887 rows × 3 columns</p>\n",
       "</div>"
      ],
      "text/plain": [
       "       emotion                                             pixels        Usage\n",
       "0            0  [70, 80, 82, 72, 58, 58, 60, 63, 54, 58, 60, 4...     Training\n",
       "1            0  [151, 150, 147, 155, 148, 133, 111, 140, 170, ...     Training\n",
       "2            2  [231, 212, 156, 164, 174, 138, 161, 173, 182, ...     Training\n",
       "3            4  [24, 32, 36, 30, 32, 23, 19, 20, 30, 41, 21, 2...     Training\n",
       "4            6  [4, 0, 0, 0, 0, 0, 0, 0, 0, 0, 0, 0, 3, 15, 23...     Training\n",
       "...        ...                                                ...          ...\n",
       "35882        6  [50, 36, 17, 22, 23, 29, 33, 39, 34, 37, 37, 3...  PrivateTest\n",
       "35883        3  [178, 174, 172, 173, 181, 188, 191, 194, 196, ...  PrivateTest\n",
       "35884        0  [17, 17, 16, 23, 28, 22, 19, 17, 25, 26, 20, 2...  PrivateTest\n",
       "35885        3  [30, 28, 28, 29, 31, 30, 42, 68, 79, 81, 77, 6...  PrivateTest\n",
       "35886        2  [19, 13, 14, 12, 13, 16, 21, 33, 50, 57, 71, 8...  PrivateTest\n",
       "\n",
       "[35887 rows x 3 columns]"
      ]
     },
     "execution_count": 5,
     "metadata": {},
     "output_type": "execute_result"
    }
   ],
   "source": [
    "def str_to_arr(x):\n",
    "    x = x.split(\" \")\n",
    "    return [int(i) for i in x]\n",
    "\n",
    "df[\"pixels\"] = df[\"pixels\"].apply(lambda x: str_to_arr(x))\n",
    "df"
   ]
  },
  {
   "cell_type": "markdown",
   "id": "9544ddd2-a7c2-48e5-b468-87ceddfb1c97",
   "metadata": {},
   "source": [
    "## Visualizing a sample:"
   ]
  },
  {
   "cell_type": "code",
   "execution_count": 6,
   "id": "90419669-2489-4fae-b721-626823d2b68f",
   "metadata": {},
   "outputs": [
    {
     "data": {
      "image/png": "[encoded data removed]",
      "text/plain": [
       "<Figure size 640x480 with 1 Axes>"
      ]
     },
     "metadata": {},
     "output_type": "display_data"
    }
   ],
   "source": [
    "index = 2\n",
    "img = np.array(df[\"pixels\"].loc[index]).reshape(48,48)\n",
    "plt.grid(False)\n",
    "plt.imshow(img, cmap=\"gray\")\n",
    "plt.show()"
   ]
  },
  {
   "cell_type": "markdown",
   "id": "5ab48d06-29a0-4e0a-b8a3-b658c919e277",
   "metadata": {},
   "source": [
    "## Adding Gaussian noise:"
   ]
  },
  {
   "cell_type": "code",
   "execution_count": 7,
   "id": "47ee76b1-e3d4-4e85-a28a-fd64569d49a0",
   "metadata": {},
   "outputs": [
    {
     "data": {
      "text/html": [
       "<div>\n",
       "<style scoped>\n",
       "    .dataframe tbody tr th:only-of-type {\n",
       "        vertical-align: middle;\n",
       "    }\n",
       "\n",
       "    .dataframe tbody tr th {\n",
       "        vertical-align: top;\n",
       "    }\n",
       "\n",
       "    .dataframe thead th {\n",
       "        text-align: right;\n",
       "    }\n",
       "</style>\n",
       "<table border=\"1\" class=\"dataframe\">\n",
       "  <thead>\n",
       "    <tr style=\"text-align: right;\">\n",
       "      <th></th>\n",
       "      <th>emotion</th>\n",
       "      <th>pixels</th>\n",
       "      <th>Usage</th>\n",
       "      <th>noisy</th>\n",
       "    </tr>\n",
       "  </thead>\n",
       "  <tbody>\n",
       "    <tr>\n",
       "      <th>0</th>\n",
       "      <td>0</td>\n",
       "      <td>[70, 80, 82, 72, 58, 58, 60, 63, 54, 58, 60, 4...</td>\n",
       "      <td>Training</td>\n",
       "      <td>[55, 83, 80, 79, 57, 48, 78, 84, 80, 65, 43, 5...</td>\n",
       "    </tr>\n",
       "    <tr>\n",
       "      <th>1</th>\n",
       "      <td>0</td>\n",
       "      <td>[151, 150, 147, 155, 148, 133, 111, 140, 170, ...</td>\n",
       "      <td>Training</td>\n",
       "      <td>[153, 142, 146, 142, 162, 126, 106, 147, 183, ...</td>\n",
       "    </tr>\n",
       "    <tr>\n",
       "      <th>2</th>\n",
       "      <td>2</td>\n",
       "      <td>[231, 212, 156, 164, 174, 138, 161, 173, 182, ...</td>\n",
       "      <td>Training</td>\n",
       "      <td>[204, 206, 161, 140, 182, 156, 121, 183, 201, ...</td>\n",
       "    </tr>\n",
       "    <tr>\n",
       "      <th>3</th>\n",
       "      <td>4</td>\n",
       "      <td>[24, 32, 36, 30, 32, 23, 19, 20, 30, 41, 21, 2...</td>\n",
       "      <td>Training</td>\n",
       "      <td>[46, 25, 19, 26, 12, 31, 34, 10, 53, 43, 35, 2...</td>\n",
       "    </tr>\n",
       "    <tr>\n",
       "      <th>4</th>\n",
       "      <td>6</td>\n",
       "      <td>[4, 0, 0, 0, 0, 0, 0, 0, 0, 0, 0, 0, 3, 15, 23...</td>\n",
       "      <td>Training</td>\n",
       "      <td>[22, 12, 7, 5, 24, 6, 0, 3, 3, 0, 0, 17, 26, 0...</td>\n",
       "    </tr>\n",
       "    <tr>\n",
       "      <th>...</th>\n",
       "      <td>...</td>\n",
       "      <td>...</td>\n",
       "      <td>...</td>\n",
       "      <td>...</td>\n",
       "    </tr>\n",
       "    <tr>\n",
       "      <th>35882</th>\n",
       "      <td>6</td>\n",
       "      <td>[50, 36, 17, 22, 23, 29, 33, 39, 34, 37, 37, 3...</td>\n",
       "      <td>PrivateTest</td>\n",
       "      <td>[60, 18, 29, 25, 37, 26, 60, 46, 17, 57, 34, 4...</td>\n",
       "    </tr>\n",
       "    <tr>\n",
       "      <th>35883</th>\n",
       "      <td>3</td>\n",
       "      <td>[178, 174, 172, 173, 181, 188, 191, 194, 196, ...</td>\n",
       "      <td>PrivateTest</td>\n",
       "      <td>[167, 152, 186, 154, 163, 191, 178, 225, 176, ...</td>\n",
       "    </tr>\n",
       "    <tr>\n",
       "      <th>35884</th>\n",
       "      <td>0</td>\n",
       "      <td>[17, 17, 16, 23, 28, 22, 19, 17, 25, 26, 20, 2...</td>\n",
       "      <td>PrivateTest</td>\n",
       "      <td>[23, 12, 24, 1, 30, 0, 20, 41, 32, 25, 21, 30,...</td>\n",
       "    </tr>\n",
       "    <tr>\n",
       "      <th>35885</th>\n",
       "      <td>3</td>\n",
       "      <td>[30, 28, 28, 29, 31, 30, 42, 68, 79, 81, 77, 6...</td>\n",
       "      <td>PrivateTest</td>\n",
       "      <td>[23, 35, 56, 48, 40, 3, 49, 72, 58, 68, 89, 34...</td>\n",
       "    </tr>\n",
       "    <tr>\n",
       "      <th>35886</th>\n",
       "      <td>2</td>\n",
       "      <td>[19, 13, 14, 12, 13, 16, 21, 33, 50, 57, 71, 8...</td>\n",
       "      <td>PrivateTest</td>\n",
       "      <td>[11, 9, 0, 0, 0, 17, 1, 62, 65, 73, 66, 59, 11...</td>\n",
       "    </tr>\n",
       "  </tbody>\n",
       "</table>\n",
       "<p>35887 rows × 4 columns</p>\n",
       "</div>"
      ],
      "text/plain": [
       "       emotion                                             pixels  \\\n",
       "0            0  [70, 80, 82, 72, 58, 58, 60, 63, 54, 58, 60, 4...   \n",
       "1            0  [151, 150, 147, 155, 148, 133, 111, 140, 170, ...   \n",
       "2            2  [231, 212, 156, 164, 174, 138, 161, 173, 182, ...   \n",
       "3            4  [24, 32, 36, 30, 32, 23, 19, 20, 30, 41, 21, 2...   \n",
       "4            6  [4, 0, 0, 0, 0, 0, 0, 0, 0, 0, 0, 0, 3, 15, 23...   \n",
       "...        ...                                                ...   \n",
       "35882        6  [50, 36, 17, 22, 23, 29, 33, 39, 34, 37, 37, 3...   \n",
       "35883        3  [178, 174, 172, 173, 181, 188, 191, 194, 196, ...   \n",
       "35884        0  [17, 17, 16, 23, 28, 22, 19, 17, 25, 26, 20, 2...   \n",
       "35885        3  [30, 28, 28, 29, 31, 30, 42, 68, 79, 81, 77, 6...   \n",
       "35886        2  [19, 13, 14, 12, 13, 16, 21, 33, 50, 57, 71, 8...   \n",
       "\n",
       "             Usage                                              noisy  \n",
       "0         Training  [55, 83, 80, 79, 57, 48, 78, 84, 80, 65, 43, 5...  \n",
       "1         Training  [153, 142, 146, 142, 162, 126, 106, 147, 183, ...  \n",
       "2         Training  [204, 206, 161, 140, 182, 156, 121, 183, 201, ...  \n",
       "3         Training  [46, 25, 19, 26, 12, 31, 34, 10, 53, 43, 35, 2...  \n",
       "4         Training  [22, 12, 7, 5, 24, 6, 0, 3, 3, 0, 0, 17, 26, 0...  \n",
       "...            ...                                                ...  \n",
       "35882  PrivateTest  [60, 18, 29, 25, 37, 26, 60, 46, 17, 57, 34, 4...  \n",
       "35883  PrivateTest  [167, 152, 186, 154, 163, 191, 178, 225, 176, ...  \n",
       "35884  PrivateTest  [23, 12, 24, 1, 30, 0, 20, 41, 32, 25, 21, 30,...  \n",
       "35885  PrivateTest  [23, 35, 56, 48, 40, 3, 49, 72, 58, 68, 89, 34...  \n",
       "35886  PrivateTest  [11, 9, 0, 0, 0, 17, 1, 62, 65, 73, 66, 59, 11...  \n",
       "\n",
       "[35887 rows x 4 columns]"
      ]
     },
     "execution_count": 7,
     "metadata": {},
     "output_type": "execute_result"
    }
   ],
   "source": [
    "def add_gaussian_noise(pixels, mean=0, std=10):\n",
    "    noise = np.random.normal(mean, std, len(pixels))\n",
    "    noisy_pixels = np.clip(pixels + noise, 0, 255).astype(np.uint8)\n",
    "    return noisy_pixels\n",
    "\n",
    "df['noisy'] = df['pixels'].apply(lambda x: add_gaussian_noise(np.array(x), mean=2, std=15))\n",
    "df"
   ]
  },
  {
   "cell_type": "markdown",
   "id": "4ed734d6-438c-4f88-a99b-0f89396fb64d",
   "metadata": {},
   "source": [
    "## Visualizing noisy image:"
   ]
  },
  {
   "cell_type": "code",
   "execution_count": 8,
   "id": "b8888f45-bafe-4264-bbe7-9c12b4ce8658",
   "metadata": {},
   "outputs": [
    {
     "data": {
      "image/png": "[encoded data removed]",
      "text/plain": [
       "<Figure size 640x480 with 1 Axes>"
      ]
     },
     "metadata": {},
     "output_type": "display_data"
    }
   ],
   "source": [
    "img = np.array(df[\"noisy\"].loc[index]).reshape(48,48)\n",
    "plt.grid(False)\n",
    "plt.imshow(img, cmap=\"gray\")\n",
    "plt.show()"
   ]
  },
  {
   "cell_type": "markdown",
   "id": "8952ae39-cf6b-4745-9ace-7e7496862f77",
   "metadata": {},
   "source": [
    "## Defining Dataset for better data management:"
   ]
  },
  {
   "cell_type": "code",
   "execution_count": 9,
   "id": "705e165b-cb06-40ff-8586-c402415605ee",
   "metadata": {},
   "outputs": [],
   "source": [
    "class ImageDataset(Dataset):\n",
    "    def __init__(self, images, noises, device):\n",
    "        self.images = images\n",
    "        self.noises = noises\n",
    "        self.device = device\n",
    "\n",
    "    def __len__(self):\n",
    "        return len(self.images)\n",
    "\n",
    "    def __getitem__(self, idx):\n",
    "        image = torch.tensor(self.images.iloc[idx], dtype=torch.float32).reshape(1, 48, 48).to(self.device)\n",
    "        noise = torch.tensor(self.noises.iloc[idx], dtype=torch.float32).reshape(1, 48, 48).to(self.device)\n",
    "        return image, noise\n"
   ]
  },
  {
   "cell_type": "code",
   "execution_count": 10,
   "id": "62bd9cdb-6383-4bfa-8195-1e626abceb1b",
   "metadata": {},
   "outputs": [
    {
     "data": {
      "text/html": [
       "<div>\n",
       "<style scoped>\n",
       "    .dataframe tbody tr th:only-of-type {\n",
       "        vertical-align: middle;\n",
       "    }\n",
       "\n",
       "    .dataframe tbody tr th {\n",
       "        vertical-align: top;\n",
       "    }\n",
       "\n",
       "    .dataframe thead th {\n",
       "        text-align: right;\n",
       "    }\n",
       "</style>\n",
       "<table border=\"1\" class=\"dataframe\">\n",
       "  <thead>\n",
       "    <tr style=\"text-align: right;\">\n",
       "      <th></th>\n",
       "      <th>pixels</th>\n",
       "      <th>noisy</th>\n",
       "    </tr>\n",
       "  </thead>\n",
       "  <tbody>\n",
       "    <tr>\n",
       "      <th>0</th>\n",
       "      <td>[70, 80, 82, 72, 58, 58, 60, 63, 54, 58, 60, 4...</td>\n",
       "      <td>[55, 83, 80, 79, 57, 48, 78, 84, 80, 65, 43, 5...</td>\n",
       "    </tr>\n",
       "    <tr>\n",
       "      <th>1</th>\n",
       "      <td>[151, 150, 147, 155, 148, 133, 111, 140, 170, ...</td>\n",
       "      <td>[153, 142, 146, 142, 162, 126, 106, 147, 183, ...</td>\n",
       "    </tr>\n",
       "    <tr>\n",
       "      <th>2</th>\n",
       "      <td>[231, 212, 156, 164, 174, 138, 161, 173, 182, ...</td>\n",
       "      <td>[204, 206, 161, 140, 182, 156, 121, 183, 201, ...</td>\n",
       "    </tr>\n",
       "    <tr>\n",
       "      <th>3</th>\n",
       "      <td>[24, 32, 36, 30, 32, 23, 19, 20, 30, 41, 21, 2...</td>\n",
       "      <td>[46, 25, 19, 26, 12, 31, 34, 10, 53, 43, 35, 2...</td>\n",
       "    </tr>\n",
       "    <tr>\n",
       "      <th>4</th>\n",
       "      <td>[4, 0, 0, 0, 0, 0, 0, 0, 0, 0, 0, 0, 3, 15, 23...</td>\n",
       "      <td>[22, 12, 7, 5, 24, 6, 0, 3, 3, 0, 0, 17, 26, 0...</td>\n",
       "    </tr>\n",
       "    <tr>\n",
       "      <th>...</th>\n",
       "      <td>...</td>\n",
       "      <td>...</td>\n",
       "    </tr>\n",
       "    <tr>\n",
       "      <th>28704</th>\n",
       "      <td>[84, 85, 85, 85, 85, 85, 85, 85, 86, 86, 86, 8...</td>\n",
       "      <td>[84, 85, 125, 80, 81, 83, 102, 91, 81, 90, 114...</td>\n",
       "    </tr>\n",
       "    <tr>\n",
       "      <th>28705</th>\n",
       "      <td>[114, 112, 113, 113, 111, 111, 112, 113, 115, ...</td>\n",
       "      <td>[107, 105, 113, 90, 108, 108, 134, 114, 98, 11...</td>\n",
       "    </tr>\n",
       "    <tr>\n",
       "      <th>28706</th>\n",
       "      <td>[74, 81, 87, 89, 95, 100, 98, 93, 105, 120, 12...</td>\n",
       "      <td>[86, 88, 71, 104, 95, 118, 92, 106, 88, 119, 1...</td>\n",
       "    </tr>\n",
       "    <tr>\n",
       "      <th>28707</th>\n",
       "      <td>[222, 227, 203, 90, 86, 90, 84, 77, 94, 87, 99...</td>\n",
       "      <td>[196, 221, 193, 119, 82, 97, 104, 84, 100, 109...</td>\n",
       "    </tr>\n",
       "    <tr>\n",
       "      <th>28708</th>\n",
       "      <td>[195, 199, 205, 206, 205, 203, 206, 209, 208, ...</td>\n",
       "      <td>[192, 192, 236, 195, 208, 217, 208, 209, 199, ...</td>\n",
       "    </tr>\n",
       "  </tbody>\n",
       "</table>\n",
       "<p>28709 rows × 2 columns</p>\n",
       "</div>"
      ],
      "text/plain": [
       "                                                  pixels  \\\n",
       "0      [70, 80, 82, 72, 58, 58, 60, 63, 54, 58, 60, 4...   \n",
       "1      [151, 150, 147, 155, 148, 133, 111, 140, 170, ...   \n",
       "2      [231, 212, 156, 164, 174, 138, 161, 173, 182, ...   \n",
       "3      [24, 32, 36, 30, 32, 23, 19, 20, 30, 41, 21, 2...   \n",
       "4      [4, 0, 0, 0, 0, 0, 0, 0, 0, 0, 0, 0, 3, 15, 23...   \n",
       "...                                                  ...   \n",
       "28704  [84, 85, 85, 85, 85, 85, 85, 85, 86, 86, 86, 8...   \n",
       "28705  [114, 112, 113, 113, 111, 111, 112, 113, 115, ...   \n",
       "28706  [74, 81, 87, 89, 95, 100, 98, 93, 105, 120, 12...   \n",
       "28707  [222, 227, 203, 90, 86, 90, 84, 77, 94, 87, 99...   \n",
       "28708  [195, 199, 205, 206, 205, 203, 206, 209, 208, ...   \n",
       "\n",
       "                                                   noisy  \n",
       "0      [55, 83, 80, 79, 57, 48, 78, 84, 80, 65, 43, 5...  \n",
       "1      [153, 142, 146, 142, 162, 126, 106, 147, 183, ...  \n",
       "2      [204, 206, 161, 140, 182, 156, 121, 183, 201, ...  \n",
       "3      [46, 25, 19, 26, 12, 31, 34, 10, 53, 43, 35, 2...  \n",
       "4      [22, 12, 7, 5, 24, 6, 0, 3, 3, 0, 0, 17, 26, 0...  \n",
       "...                                                  ...  \n",
       "28704  [84, 85, 125, 80, 81, 83, 102, 91, 81, 90, 114...  \n",
       "28705  [107, 105, 113, 90, 108, 108, 134, 114, 98, 11...  \n",
       "28706  [86, 88, 71, 104, 95, 118, 92, 106, 88, 119, 1...  \n",
       "28707  [196, 221, 193, 119, 82, 97, 104, 84, 100, 109...  \n",
       "28708  [192, 192, 236, 195, 208, 217, 208, 209, 199, ...  \n",
       "\n",
       "[28709 rows x 2 columns]"
      ]
     },
     "execution_count": 10,
     "metadata": {},
     "output_type": "execute_result"
    }
   ],
   "source": [
    "train_set = df[df[\"Usage\"] == \"Training\"][[\"pixels\", \"noisy\"]]\n",
    "test_set = df[df[\"Usage\"] == \"PrivateTest\"][[\"pixels\", \"noisy\"]]\n",
    "val_set = df[df[\"Usage\"] == \"PublicTest\"][[\"pixels\", \"noisy\"]]\n",
    "train_set"
   ]
  },
  {
   "cell_type": "markdown",
   "id": "0308e228-6f0e-4840-8e40-27ddba3dec99",
   "metadata": {},
   "source": [
    "## Creating dataloaders for loading efficiently:"
   ]
  },
  {
   "cell_type": "code",
   "execution_count": 12,
   "id": "9f422aa6-e843-4a9e-8093-66c8f1270a7a",
   "metadata": {},
   "outputs": [],
   "source": [
    "train_dataset = ImageDataset(train_set[\"pixels\"], train_set[\"noisy\"], device=\"cuda:1\")\n",
    "test_dataset = ImageDataset(test_set[\"pixels\"], test_set[\"noisy\"], device=\"cuda:1\")\n",
    "val_dataset = ImageDataset(val_set[\"pixels\"], val_set[\"noisy\"], device=\"cuda:1\")\n",
    "\n",
    "train_loader = torch.utils.data.DataLoader(dataset=train_dataset,\n",
    "                                           batch_size=16,\n",
    "                                           shuffle=True)\n",
    "\n",
    "test_loader = torch.utils.data.DataLoader(dataset=test_dataset,\n",
    "                                         batch_size=16,\n",
    "                                         shuffle=True)\n",
    "\n",
    "val_loader = torch.utils.data.DataLoader(dataset=val_dataset,\n",
    "                                         batch_size=16,\n",
    "                                         shuffle=True)"
   ]
  },
  {
   "cell_type": "markdown",
   "id": "815e63dc-0df6-47a8-8db2-4287213369d0",
   "metadata": {},
   "source": [
    "# Model Definition:"
   ]
  },
  {
   "cell_type": "code",
   "execution_count": 33,
   "id": "54a2809c-630e-4050-bfec-167ee3d042eb",
   "metadata": {},
   "outputs": [],
   "source": [
    "class Conv_block(nn.Module):\n",
    "    def __init__(self, in_channels, out_channels, size=3, padding=1, dropout=0.2, stride=1):\n",
    "        super().__init__()\n",
    "        self.convs = nn.Sequential(\n",
    "            nn.Conv2d(in_channels, out_channels, size, padding=padding),\n",
    "            nn.LeakyReLU(0.1, inplace=True),\n",
    "            nn.Dropout(dropout),\n",
    "            nn.BatchNorm2d(out_channels),\n",
    "\n",
    "            nn.Conv2d(out_channels, out_channels, size, padding=padding, stride=stride),\n",
    "            nn.LeakyReLU(0.1, inplace=True),\n",
    "            nn.Dropout(dropout),\n",
    "            nn.BatchNorm2d(out_channels),\n",
    "        )\n",
    "\n",
    "    def forward(self, x):\n",
    "        \n",
    "        x = self.convs(x)\n",
    "        return x\n",
    "\n",
    "\n",
    "class DeConv_block(nn.Module):\n",
    "    def __init__(self, in_channels, out_channels, size=3, padding=1, dropout=0.2):\n",
    "        super().__init__()\n",
    "        self.deConv = nn.ConvTranspose2d(in_channels, out_channels, size,\n",
    "                                         padding=1, stride=2, output_padding=1)\n",
    "        self.convs = Conv_block(out_channels * 2, out_channels, size, padding, dropout)\n",
    "\n",
    "    def forward(self, x, residual):\n",
    "        \n",
    "        x = self.deConv(x)\n",
    "        x = torch.cat([x, residual], 1)\n",
    "        x = self.convs(x)\n",
    "        return x"
   ]
  },
  {
   "cell_type": "code",
   "execution_count": 40,
   "id": "da9e90e4-f821-4983-b93d-0b3cda86f1e0",
   "metadata": {},
   "outputs": [],
   "source": [
    "class GeneratorUnet(nn.Module):\n",
    "    \n",
    "    def __init__(self, d=64, out_channels=1, dropout=0.2):\n",
    "        super().__init__()\n",
    "\n",
    "        self.conv_blocks = nn.ModuleList([\n",
    "            Conv_block(1, d, dropout=dropout),\n",
    "            Conv_block(d, 2 * d, stride=2, dropout=dropout),\n",
    "            Conv_block(2 * d, 4 * d, stride=2, dropout=dropout),\n",
    "            Conv_block(4 * d, 8 * d, stride=2, dropout=dropout),\n",
    "            Conv_block(8 * d, 16 * d, stride=2, dropout=dropout)\n",
    "        ])\n",
    "\n",
    "        self.deConv_blocks = nn.ModuleList([\n",
    "            DeConv_block(16 * d, 8 * d, dropout=dropout),\n",
    "            DeConv_block(8 * d, 4 * d, dropout=dropout),\n",
    "            DeConv_block(4 * d, 2 * d, dropout=dropout),\n",
    "            DeConv_block(2 * d, d, dropout=dropout),\n",
    "        ])\n",
    "\n",
    "        self.output_conv = nn.Conv2d(d, out_channels, 3, padding=1)\n",
    "\n",
    "    def forward(self, x):\n",
    "        x1 = self.conv_blocks[0](x)\n",
    "        x2 = self.conv_blocks[1](x1)\n",
    "        x3 = self.conv_blocks[2](x2)\n",
    "        x4 = self.conv_blocks[3](x3)\n",
    "        x5 = self.conv_blocks[4](x4)\n",
    "\n",
    "        x = self.deConv_blocks[0](x5, x4)\n",
    "        x = self.deConv_blocks[1](x, x3)\n",
    "        x = self.deConv_blocks[2](x, x2)\n",
    "        x = self.deConv_blocks[3](x, x1)\n",
    "\n",
    "        x = self.output_conv(x)\n",
    "\n",
    "        return x"
   ]
  },
  {
   "cell_type": "code",
   "execution_count": 41,
   "id": "eca52698-301a-4c0b-9307-e228bbc3d8f0",
   "metadata": {},
   "outputs": [],
   "source": [
    "class Discriminator(nn.Module):\n",
    "    \n",
    "    def __init__(self, label_channels=1, input_channels=1, d=64):\n",
    "        super().__init__()\n",
    "\n",
    "        self.convs = nn.Sequential(\n",
    "            nn.Conv2d(label_channels + input_channels, d, 3, 2, 1),\n",
    "            nn.LeakyReLU(0.1, inplace=True),\n",
    "            nn.BatchNorm2d(d),\n",
    "\n",
    "            nn.Conv2d(d, d*2, 3, 2, 1),\n",
    "            nn.LeakyReLU(0.1, inplace=True),\n",
    "            nn.BatchNorm2d(d*2),\n",
    "\n",
    "            nn.Conv2d(d*2, d*4, 3, 2, 1),\n",
    "            nn.LeakyReLU(0.1, inplace=True),\n",
    "            nn.BatchNorm2d(d*4),\n",
    "\n",
    "            nn.Conv2d(d*4, d*8, 3, 2, 1),\n",
    "            nn.LeakyReLU(0.1, inplace=True),\n",
    "            nn.BatchNorm2d(d*8),\n",
    "\n",
    "            nn.Conv2d(d*8, 1, 3, 2, 1),\n",
    "        )\n",
    "        self.float()\n",
    "\n",
    "    def forward(self, input, label):\n",
    "        x = torch.cat([input, label], 1)\n",
    "        x = self.convs(x)\n",
    "\n",
    "        return x"
   ]
  },
  {
   "cell_type": "code",
   "execution_count": 42,
   "id": "c2cf692b-f902-4322-9795-5b0dc40b7875",
   "metadata": {},
   "outputs": [],
   "source": [
    "class EarlyStopping:\n",
    "    def __init__(self, patience=5, delta=0):\n",
    "        self.patience = patience\n",
    "        self.delta = delta\n",
    "        self.best_score = None\n",
    "        self.early_stop = False\n",
    "        self.counter = 0\n",
    "        self.best_model_state = None\n",
    "\n",
    "    def __call__(self, val_loss, model):\n",
    "        score = -val_loss\n",
    "        if self.best_score is None:\n",
    "            self.best_score = score\n",
    "            self.best_model_state = model.state_dict()\n",
    "        elif score < self.best_score + self.delta:\n",
    "            self.counter += 1\n",
    "            if self.counter >= self.patience:\n",
    "                self.early_stop = True\n",
    "        else:\n",
    "            self.best_score = score\n",
    "            self.best_model_state = model.state_dict()\n",
    "            self.counter = 0\n",
    "\n",
    "    def load_best_model(self, model):\n",
    "        model.load_state_dict(self.best_model_state)"
   ]
  },
  {
   "cell_type": "code",
   "execution_count": 89,
   "id": "56056d9b-afbf-437b-ab44-a8660d1a9f3b",
   "metadata": {},
   "outputs": [],
   "source": [
    "generator = GeneratorUnet()\n",
    "discriminator = Discriminator()\n",
    "model = nn.ModuleDict({'generator': generator, 'discriminator': discriminator})"
   ]
  },
  {
   "cell_type": "code",
   "execution_count": 90,
   "id": "c652064e-eab6-4869-9cec-a061e5cdd596",
   "metadata": {},
   "outputs": [],
   "source": [
    "generator_l2_loss = nn.MSELoss()\n",
    "generator_gan_loss = nn.BCEWithLogitsLoss()\n",
    "criterion = nn.MSELoss().to(device)\n",
    "discriminator_gan_loss = nn.BCEWithLogitsLoss()\n",
    "\n",
    "generator_optimizer = Adam(generator.parameters(), lr=0.0001)\n",
    "discriminator_optimizer = Adam(discriminator.parameters(), lr=0.0001)"
   ]
  },
  {
   "cell_type": "markdown",
   "id": "e049ca80-3050-4767-81e0-54401448696b",
   "metadata": {},
   "source": [
    "# Training loop:"
   ]
  },
  {
   "cell_type": "code",
   "execution_count": 91,
   "id": "ddede2a7-132c-4538-ac48-e726a469d5c6",
   "metadata": {
    "scrolled": true
   },
   "outputs": [
    {
     "name": "stdout",
     "output_type": "stream",
     "text": [
      "Epoch 1 ...\n"
     ]
    },
    {
     "name": "stderr",
     "output_type": "stream",
     "text": [
      "100%|█████████████████████████████████████████████████████████| 1795/1795 [00:27<00:00, 64.63it/s]\n",
      "100%|██████████████████████████████████████████████████████████| 225/225 [00:00<00:00, 250.45it/s]\n"
     ]
    },
    {
     "name": "stdout",
     "output_type": "stream",
     "text": [
      "Epoch 1 | Average Train MSE: 15379.113548376567,  | Average Validation MSE: 10504.13595486111\n",
      "Epoch 2 ...\n"
     ]
    },
    {
     "name": "stderr",
     "output_type": "stream",
     "text": [
      "100%|█████████████████████████████████████████████████████████| 1795/1795 [00:27<00:00, 65.14it/s]\n",
      "100%|██████████████████████████████████████████████████████████| 225/225 [00:00<00:00, 250.30it/s]\n"
     ]
    },
    {
     "name": "stdout",
     "output_type": "stream",
     "text": [
      "Epoch 2 | Average Train MSE: 5662.74184801532,  | Average Validation MSE: 2092.653342013889\n",
      "Epoch 3 ...\n"
     ]
    },
    {
     "name": "stderr",
     "output_type": "stream",
     "text": [
      "100%|█████████████████████████████████████████████████████████| 1795/1795 [00:27<00:00, 64.79it/s]\n",
      "100%|██████████████████████████████████████████████████████████| 225/225 [00:00<00:00, 252.59it/s]\n"
     ]
    },
    {
     "name": "stdout",
     "output_type": "stream",
     "text": [
      "Epoch 3 | Average Train MSE: 771.4865097853467,  | Average Validation MSE: 113.82383073594835\n",
      "Epoch 4 ...\n"
     ]
    },
    {
     "name": "stderr",
     "output_type": "stream",
     "text": [
      "100%|█████████████████████████████████████████████████████████| 1795/1795 [00:27<00:00, 65.38it/s]\n",
      "100%|██████████████████████████████████████████████████████████| 225/225 [00:00<00:00, 249.90it/s]\n"
     ]
    },
    {
     "name": "stdout",
     "output_type": "stream",
     "text": [
      "Epoch 4 | Average Train MSE: 234.07378477133747,  | Average Validation MSE: 85.41791052924262\n",
      "Epoch 5 ...\n"
     ]
    },
    {
     "name": "stderr",
     "output_type": "stream",
     "text": [
      "100%|█████████████████████████████████████████████████████████| 1795/1795 [00:27<00:00, 65.03it/s]\n",
      "100%|██████████████████████████████████████████████████████████| 225/225 [00:00<00:00, 250.54it/s]\n"
     ]
    },
    {
     "name": "stdout",
     "output_type": "stream",
     "text": [
      "Epoch 5 | Average Train MSE: 204.81141827936625,  | Average Validation MSE: 86.3906010945638\n",
      "Epoch 6 ...\n"
     ]
    },
    {
     "name": "stderr",
     "output_type": "stream",
     "text": [
      "100%|█████████████████████████████████████████████████████████| 1795/1795 [00:27<00:00, 65.13it/s]\n",
      "100%|██████████████████████████████████████████████████████████| 225/225 [00:00<00:00, 250.64it/s]\n"
     ]
    },
    {
     "name": "stdout",
     "output_type": "stream",
     "text": [
      "Epoch 6 | Average Train MSE: 180.7760383712216,  | Average Validation MSE: 80.65851172553168\n",
      "Epoch 7 ...\n"
     ]
    },
    {
     "name": "stderr",
     "output_type": "stream",
     "text": [
      "100%|█████████████████████████████████████████████████████████| 1795/1795 [00:27<00:00, 64.93it/s]\n",
      "100%|██████████████████████████████████████████████████████████| 225/225 [00:00<00:00, 251.42it/s]\n"
     ]
    },
    {
     "name": "stdout",
     "output_type": "stream",
     "text": [
      "Epoch 7 | Average Train MSE: 159.55380805820477,  | Average Validation MSE: 93.51810153537326\n",
      "Epoch 8 ...\n"
     ]
    },
    {
     "name": "stderr",
     "output_type": "stream",
     "text": [
      "100%|█████████████████████████████████████████████████████████| 1795/1795 [00:27<00:00, 65.15it/s]\n",
      "100%|██████████████████████████████████████████████████████████| 225/225 [00:00<00:00, 237.55it/s]\n"
     ]
    },
    {
     "name": "stdout",
     "output_type": "stream",
     "text": [
      "Epoch 8 | Average Train MSE: 144.24363391419308,  | Average Validation MSE: 79.74438218858506\n",
      "Epoch 9 ...\n"
     ]
    },
    {
     "name": "stderr",
     "output_type": "stream",
     "text": [
      "100%|█████████████████████████████████████████████████████████| 1795/1795 [00:27<00:00, 64.59it/s]\n",
      "100%|██████████████████████████████████████████████████████████| 225/225 [00:00<00:00, 252.74it/s]\n"
     ]
    },
    {
     "name": "stdout",
     "output_type": "stream",
     "text": [
      "Epoch 9 | Average Train MSE: 136.0456792209806,  | Average Validation MSE: 81.56447323269315\n",
      "Epoch 10 ...\n"
     ]
    },
    {
     "name": "stderr",
     "output_type": "stream",
     "text": [
      "100%|█████████████████████████████████████████████████████████| 1795/1795 [00:27<00:00, 65.00it/s]\n",
      "100%|██████████████████████████████████████████████████████████| 225/225 [00:00<00:00, 252.46it/s]\n"
     ]
    },
    {
     "name": "stdout",
     "output_type": "stream",
     "text": [
      "Epoch 10 | Average Train MSE: 130.65946488234326,  | Average Validation MSE: 102.10233459472656\n",
      "Epoch 11 ...\n"
     ]
    },
    {
     "name": "stderr",
     "output_type": "stream",
     "text": [
      "100%|█████████████████████████████████████████████████████████| 1795/1795 [00:27<00:00, 64.99it/s]\n",
      "100%|██████████████████████████████████████████████████████████| 225/225 [00:00<00:00, 251.12it/s]\n"
     ]
    },
    {
     "name": "stdout",
     "output_type": "stream",
     "text": [
      "Epoch 11 | Average Train MSE: 126.76906930822516,  | Average Validation MSE: 76.40114474826389\n",
      "Epoch 12 ...\n"
     ]
    },
    {
     "name": "stderr",
     "output_type": "stream",
     "text": [
      "100%|█████████████████████████████████████████████████████████| 1795/1795 [00:27<00:00, 64.92it/s]\n",
      "100%|██████████████████████████████████████████████████████████| 225/225 [00:00<00:00, 249.99it/s]\n"
     ]
    },
    {
     "name": "stdout",
     "output_type": "stream",
     "text": [
      "Epoch 12 | Average Train MSE: 123.41715888658274,  | Average Validation MSE: 73.96195995754665\n",
      "Epoch 13 ...\n"
     ]
    },
    {
     "name": "stderr",
     "output_type": "stream",
     "text": [
      "100%|█████████████████████████████████████████████████████████| 1795/1795 [00:27<00:00, 64.85it/s]\n",
      "100%|██████████████████████████████████████████████████████████| 225/225 [00:00<00:00, 253.33it/s]\n"
     ]
    },
    {
     "name": "stdout",
     "output_type": "stream",
     "text": [
      "Epoch 13 | Average Train MSE: 119.01237210669558,  | Average Validation MSE: 70.27843380398221\n",
      "Epoch 14 ...\n"
     ]
    },
    {
     "name": "stderr",
     "output_type": "stream",
     "text": [
      "100%|█████████████████████████████████████████████████████████| 1795/1795 [00:27<00:00, 65.00it/s]\n",
      "100%|██████████████████████████████████████████████████████████| 225/225 [00:00<00:00, 249.68it/s]\n"
     ]
    },
    {
     "name": "stdout",
     "output_type": "stream",
     "text": [
      "Epoch 14 | Average Train MSE: 117.73632054660978,  | Average Validation MSE: 67.45751998901368\n",
      "Epoch 15 ...\n"
     ]
    },
    {
     "name": "stderr",
     "output_type": "stream",
     "text": [
      "100%|█████████████████████████████████████████████████████████| 1795/1795 [00:28<00:00, 62.71it/s]\n",
      "100%|██████████████████████████████████████████████████████████| 225/225 [00:00<00:00, 250.97it/s]\n"
     ]
    },
    {
     "name": "stdout",
     "output_type": "stream",
     "text": [
      "Epoch 15 | Average Train MSE: 113.70185283352738,  | Average Validation MSE: 75.26327996148004\n",
      "Epoch 16 ...\n"
     ]
    },
    {
     "name": "stderr",
     "output_type": "stream",
     "text": [
      "100%|█████████████████████████████████████████████████████████| 1795/1795 [00:28<00:00, 63.41it/s]\n",
      "100%|██████████████████████████████████████████████████████████| 225/225 [00:00<00:00, 250.72it/s]\n"
     ]
    },
    {
     "name": "stdout",
     "output_type": "stream",
     "text": [
      "Epoch 16 | Average Train MSE: 110.33569794126208,  | Average Validation MSE: 76.58416093614366\n",
      "Epoch 17 ...\n"
     ]
    },
    {
     "name": "stderr",
     "output_type": "stream",
     "text": [
      "100%|█████████████████████████████████████████████████████████| 1795/1795 [00:28<00:00, 63.27it/s]\n",
      "100%|██████████████████████████████████████████████████████████| 225/225 [00:00<00:00, 249.64it/s]\n"
     ]
    },
    {
     "name": "stdout",
     "output_type": "stream",
     "text": [
      "Epoch 17 | Average Train MSE: 108.77831091070574,  | Average Validation MSE: 75.11692526923285\n",
      "Epoch 18 ...\n"
     ]
    },
    {
     "name": "stderr",
     "output_type": "stream",
     "text": [
      "100%|█████████████████████████████████████████████████████████| 1795/1795 [00:28<00:00, 63.23it/s]\n",
      "100%|██████████████████████████████████████████████████████████| 225/225 [00:00<00:00, 251.11it/s]\n"
     ]
    },
    {
     "name": "stdout",
     "output_type": "stream",
     "text": [
      "Epoch 18 | Average Train MSE: 107.25330448416283,  | Average Validation MSE: 73.21764880710178\n",
      "Epoch 19 ...\n"
     ]
    },
    {
     "name": "stderr",
     "output_type": "stream",
     "text": [
      "100%|█████████████████████████████████████████████████████████| 1795/1795 [00:28<00:00, 63.28it/s]\n",
      "100%|██████████████████████████████████████████████████████████| 225/225 [00:00<00:00, 250.70it/s]"
     ]
    },
    {
     "name": "stdout",
     "output_type": "stream",
     "text": [
      "Early stopping\n"
     ]
    },
    {
     "name": "stderr",
     "output_type": "stream",
     "text": [
      "\n"
     ]
    }
   ],
   "source": [
    "epoch = 20\n",
    "lam = 100\n",
    "\n",
    "early_stopping = EarlyStopping(patience=5, delta=0.01)\n",
    "model.to(device)\n",
    "history = {'train': [], 'valid': []}\n",
    "\n",
    "for i in range(epoch):\n",
    "    print(f'Epoch {i+1} ...')\n",
    "    model.train()\n",
    "    sum_train_mse = 0\n",
    "    training_steps = 0\n",
    "\n",
    "    for (img, noise) in tqdm(train_loader):\n",
    "        generator_optimizer.zero_grad()\n",
    "        discriminator_optimizer.zero_grad()\n",
    "\n",
    "        img = img.to(device)\n",
    "        noise = noise.to(device)\n",
    "\n",
    "        # Train discriminator\n",
    "        D_result_real = model['discriminator'](noise, img).squeeze().float()\n",
    "        D_real_loss = discriminator_gan_loss(D_result_real, torch.ones(D_result_real.size(), device=device))\n",
    "\n",
    "        with torch.no_grad():\n",
    "            G_result = model['generator'](noise).float()\n",
    "        D_result_fake = model['discriminator'](noise, G_result).squeeze().float()\n",
    "        D_fake_loss = discriminator_gan_loss(D_result_fake, torch.zeros(D_result_fake.size(), device=device))\n",
    "        D_train_loss = (D_real_loss + D_fake_loss) * 0.5\n",
    "\n",
    "        D_train_loss.backward()\n",
    "        discriminator_optimizer.step()\n",
    "\n",
    "        # Train generator\n",
    "        G_result = model['generator'](noise).float()\n",
    "        D_result_fake = model['discriminator'](noise, G_result).squeeze().float()\n",
    "        G_gan_loss = generator_gan_loss(D_result_fake, torch.ones(D_result_fake.size(), device=device))\n",
    "        G_mse_loss = generator_l2_loss(G_result, img)\n",
    "        G_train_loss = G_gan_loss + G_mse_loss * lam\n",
    "\n",
    "        G_train_loss.backward()\n",
    "        generator_optimizer.step()\n",
    "\n",
    "        sum_train_mse += G_mse_loss.cpu().item()\n",
    "        training_steps += 1\n",
    "\n",
    "    model.eval()\n",
    "    sum_valid_mse = 0\n",
    "    valid_steps = 0\n",
    "    for (img, noise) in tqdm(val_loader):\n",
    "        img = img.to(device)\n",
    "        noise = noise.to(device)\n",
    "        with torch.no_grad():\n",
    "            output = model['generator'](noise)\n",
    "        loss = criterion(output, img)\n",
    "        sum_valid_mse += loss.cpu().item()\n",
    "        valid_steps += 1\n",
    "\n",
    "    early_stopping(sum_valid_mse / valid_steps, model['generator'])\n",
    "    if early_stopping.early_stop:\n",
    "        print(\"Early stopping\")\n",
    "        break\n",
    "            \n",
    "    history['train'].append(sum_train_mse / training_steps)\n",
    "    history['valid'].append(sum_valid_mse / valid_steps)\n",
    "    print(f'Epoch {i+1} | Average Train MSE: {sum_train_mse / training_steps},',\n",
    "          f' | Average Validation MSE: {sum_valid_mse / valid_steps}')\n"
   ]
  },
  {
   "cell_type": "markdown",
   "id": "11ffdc0c-6345-4b9b-80e2-4f04ea6266a7",
   "metadata": {},
   "source": [
    "## Loading the best model (with least val loss)"
   ]
  },
  {
   "cell_type": "code",
   "execution_count": 95,
   "id": "5afb4872-8948-42e0-9eb8-73e61f8b3d26",
   "metadata": {},
   "outputs": [],
   "source": [
    "early_stopping.load_best_model(model['generator'])"
   ]
  },
  {
   "cell_type": "markdown",
   "id": "62187702-2eb3-4fd4-ac05-9634fc30d333",
   "metadata": {},
   "source": [
    "## Visualizing a denoised sample:"
   ]
  },
  {
   "cell_type": "code",
   "execution_count": 99,
   "id": "f7a2e743-68cc-4f59-8e7f-5b21b9dcd6e0",
   "metadata": {},
   "outputs": [
    {
     "data": {
      "image/png": "[encoded data removed]",
      "text/plain": [
       "<Figure size 1200x1000 with 3 Axes>"
      ]
     },
     "metadata": {},
     "output_type": "display_data"
    }
   ],
   "source": [
    "index = 2\n",
    "img = torch.tensor(df[\"pixels\"].loc[index]).reshape(48,48).to(device)\n",
    "noisy_img = torch.tensor(df[\"noisy\"].loc[index]).reshape(48,48).to(device)\n",
    "\n",
    "model.to(device)\n",
    "model.eval()\n",
    "input_tensor = noisy_img.reshape(1,1,48,48).type(torch.float32)\n",
    "denoised = model['generator'](input_tensor)\n",
    "\n",
    "plt.figure(figsize=(12,10))\n",
    "plt.subplot(1,3,1)\n",
    "plt.title(\"noisy image\")\n",
    "plt.imshow(noisy_img.cpu().detach().numpy(), cmap='gray')\n",
    "plt.grid(False)\n",
    "\n",
    "plt.subplot(1,3,2)\n",
    "plt.title(\"raw image\")\n",
    "plt.imshow(img.cpu().detach().numpy(), cmap='gray')\n",
    "plt.grid(False)\n",
    "\n",
    "plt.subplot(1,3,3)\n",
    "plt.title(\"denoised image\")\n",
    "plt.imshow(denoised.cpu().squeeze().detach().numpy(), cmap='gray')\n",
    "plt.grid(False)"
   ]
  },
  {
   "cell_type": "markdown",
   "id": "63feba63-dc9f-4e55-a448-b6372f07fd1c",
   "metadata": {},
   "source": [
    "# Loss for the test set:"
   ]
  },
  {
   "cell_type": "code",
   "execution_count": 100,
   "id": "32e9c901-3cd1-4fb9-918f-9a16fe753440",
   "metadata": {},
   "outputs": [
    {
     "name": "stderr",
     "output_type": "stream",
     "text": [
      "100%|██████████████████████████████████████████████████████████| 225/225 [00:00<00:00, 248.51it/s]"
     ]
    },
    {
     "name": "stdout",
     "output_type": "stream",
     "text": [
      "MSE Loss on the Test set: 76.26278376261394\n"
     ]
    },
    {
     "name": "stderr",
     "output_type": "stream",
     "text": [
      "\n"
     ]
    }
   ],
   "source": [
    "test_loss = 0\n",
    "for (img, noise) in tqdm(test_loader):\n",
    "        img = img.to(device)\n",
    "        noise = noise.to(device)\n",
    "        with torch.no_grad():\n",
    "            output = model['generator'](noise)\n",
    "        loss = criterion(output, img)\n",
    "        test_loss += loss.cpu().item()\n",
    "\n",
    "test_loss /= len(test_loader)\n",
    "print(f\"MSE Loss on the Test set: {test_loss}\")"
   ]
  }
 ],
 "metadata": {
  "kernelspec": {
   "display_name": "Python 3 (ipykernel)",
   "language": "python",
   "name": "python3"
  },
  "language_info": {
   "codemirror_mode": {
    "name": "ipython",
    "version": 3
   },
   "file_extension": ".py",
   "mimetype": "text/x-python",
   "name": "python",
   "nbconvert_exporter": "python",
   "pygments_lexer": "ipython3",
   "version": "3.10.12"
  }
 },
 "nbformat": 4,
 "nbformat_minor": 5
}
